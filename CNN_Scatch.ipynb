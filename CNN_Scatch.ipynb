{
 "cells": [
  {
   "cell_type": "code",
   "execution_count": 20,
   "metadata": {},
   "outputs": [],
   "source": [
    "import numpy as np\n",
    "import pandas as pd\n",
    "from tqdm import tqdm\n",
    "from keras.datasets import mnist\n"
   ]
  },
  {
   "cell_type": "code",
   "execution_count": 21,
   "metadata": {},
   "outputs": [
    {
     "data": {
      "text/plain": [
       "1    26\n",
       "9    23\n",
       "0    21\n",
       "3    21\n",
       "4    21\n",
       "7    21\n",
       "2    20\n",
       "6    19\n",
       "8    15\n",
       "5    13\n",
       "dtype: int64"
      ]
     },
     "execution_count": 21,
     "metadata": {},
     "output_type": "execute_result"
    }
   ],
   "source": [
    "#loading dataset\n",
    "(x_train,y_train),(x_test,y_test)= mnist.load_data()\n",
    "\n",
    "#Selecting 200 images\n",
    "x_train = x_train[:200]\n",
    "y=y_train[:200]\n",
    "\n",
    "X=x_train.T #x_train.Transpose\n",
    "X=X/255 #maximum number of pixels in an image is 255\n",
    "\n",
    "y.resize((200,1))\n",
    "y=y.T\n",
    "\n",
    "pd.Series(y[0]).value_counts()"
   ]
  },
  {
   "cell_type": "code",
   "execution_count": 22,
   "metadata": {},
   "outputs": [
    {
     "data": {
      "text/plain": [
       "0    109\n",
       "1     91\n",
       "dtype: int64"
      ]
     },
     "execution_count": 22,
     "metadata": {},
     "output_type": "execute_result"
    }
   ],
   "source": [
    "# converting into binary classification As you can see,\n",
    "#we have ten classes here – 0 to 9. \n",
    "#This is a multi-class classification problem. \n",
    "#For now, we will start with building a simple CNN model for a binary classification problem\n",
    "\n",
    "for i in range(y.shape[1]):\n",
    "    if y[0][i]> 4: #5-9 is labelled as 1\n",
    "        y[0][i]=1\n",
    "    else:\n",
    "        y[0][i]=0 #0-4 is labelled as 0\n",
    "        \n",
    "pd.Series(y[0]).value_counts()\n",
    "        \n",
    "\n"
   ]
  },
  {
   "cell_type": "code",
   "execution_count": 23,
   "metadata": {},
   "outputs": [
    {
     "name": "stdout",
     "output_type": "stream",
     "text": [
      "Filter 1 \n",
      " [[0.1978265  0.37951328 0.07437184 0.89313986 0.59331677]\n",
      " [0.9921053  0.71078108 0.6420034  0.9747461  0.65692554]\n",
      " [0.22389275 0.86856848 0.22651931 0.36966207 0.2305958 ]\n",
      " [0.25193526 0.71192794 0.97579266 0.64372124 0.37778196]\n",
      " [0.8409276  0.10585451 0.66116897 0.04335596 0.42404466]] \n",
      "\n",
      "Filter 2 \n",
      " [[0.30532489 0.50748864 0.17039    0.30319015 0.73062154]\n",
      " [0.79301253 0.43305302 0.81986337 0.88798695 0.59453829]\n",
      " [0.08420894 0.00735801 0.55211057 0.1045976  0.75457881]\n",
      " [0.85138245 0.73860578 0.8113237  0.56222024 0.79526409]\n",
      " [0.6332287  0.36727812 0.71201295 0.45675962 0.6177029 ]] \n",
      "\n",
      "Filter 3 \n",
      " [[0.98820802 0.37523123 0.8635067  0.21867458 0.72396345]\n",
      " [0.51442573 0.95977224 0.79057101 0.02618412 0.98919579]\n",
      " [0.69491355 0.35293309 0.22183293 0.16555789 0.87647262]\n",
      " [0.89525096 0.2273328  0.99213837 0.88315873 0.93928075]\n",
      " [0.30319731 0.97313542 0.1473612  0.05045513 0.33540267]] \n",
      "\n"
     ]
    }
   ],
   "source": [
    "#We will now initialize the filters for the convolution operation\n",
    "\n",
    "f=np.random.uniform(size=(3,5,5))\n",
    "f=f.T\n",
    "print('Filter 1', '\\n', f[:,:,0], '\\n')\n",
    "print('Filter 2', '\\n', f[:,:,1], '\\n')\n",
    "print('Filter 3', '\\n', f[:,:,2], '\\n')\n"
   ]
  },
  {
   "cell_type": "code",
   "execution_count": 24,
   "metadata": {},
   "outputs": [
    {
     "data": {
      "text/plain": [
       "((28, 28, 200), (1, 200), (5, 5, 3))"
      ]
     },
     "execution_count": 24,
     "metadata": {},
     "output_type": "execute_result"
    }
   ],
   "source": [
    "X.shape, y.shape, f.shape\n"
   ]
  },
  {
   "cell_type": "code",
   "execution_count": 25,
   "metadata": {},
   "outputs": [
    {
     "data": {
      "text/plain": [
       "(200, 576, 5, 5)"
      ]
     },
     "execution_count": 25,
     "metadata": {},
     "output_type": "execute_result"
    }
   ],
   "source": [
    "# Generating patches from images\n",
    "\n",
    "new_image = []\n",
    "\n",
    "\n",
    "# for number of images which is 200\n",
    "for k in range(X.shape[2]):\n",
    "    # sliding in horizontal direction\n",
    "    for i in range(X.shape[0]-f.shape[0]+1):\n",
    "        # sliding in vertical direction\n",
    "        for j in range(X.shape[1]-f.shape[1]+1):\n",
    "            new_image.append(X[:,:,k][i:i+f.shape[0],j:j+f.shape[1]])\n",
    "          \n",
    "            \n",
    "new_image  = np.array(new_image)\n",
    "new_image.resize((X.shape[2],int(new_image.shape[0]/X.shape[2]),new_image.shape[1],new_image.shape[2]))\n",
    "new_image.shape"
   ]
  },
  {
   "cell_type": "code",
   "execution_count": 26,
   "metadata": {},
   "outputs": [],
   "source": [
    "#number of features in data set\n",
    "\n",
    "s_row = X.shape[0] - f.shape[0] + 1\n",
    "s_col = X.shape[1] - f.shape[1] + 1\n",
    "num_filter = f.shape[2]\n",
    "\n",
    "inputlayer_neurons = (s_row)*(s_col)*(num_filter)\n",
    "output_neurons = 1 \n",
    "\n",
    "# initializing weight\n",
    "wo=np.random.uniform(size=(inputlayer_neurons,output_neurons))"
   ]
  },
  {
   "cell_type": "code",
   "execution_count": 27,
   "metadata": {},
   "outputs": [],
   "source": [
    "# Defining the Sigmoid Function\n",
    "\n",
    "def sigmoid(x):\n",
    "    return 1/(1+ np.exp(-x))\n",
    "\n",
    "# derivative of sigmoid function\n",
    "\n",
    "def der_sigmoid(x):\n",
    "    return x*(1-x)"
   ]
  },
  {
   "cell_type": "code",
   "execution_count": 28,
   "metadata": {},
   "outputs": [
    {
     "data": {
      "text/plain": [
       "((200, 3, 576), (200, 3, 576))"
      ]
     },
     "execution_count": 28,
     "metadata": {},
     "output_type": "execute_result"
    }
   ],
   "source": [
    "# generating output of convo layer\n",
    "\n",
    "filter_output = []\n",
    "\n",
    "#for each image\n",
    "\n",
    "for i in range(len(new_image)):\n",
    "    #apply each filter\n",
    "    for k in range(f.shape[2]):\n",
    "        # # do element wise multiplication\n",
    "         for j in range(new_image.shape[1]):\n",
    "            filter_output.append((new_image[i][j]*f[:,:,k]).sum())\n",
    "            \n",
    "filter_output = np.resize(np.array(filter_output), (len(new_image),f.shape[2],new_image.shape[1]))\n",
    "\n",
    "#applying activation over conv output\n",
    "filter_output_sigmoid = sigmoid(filter_output)\n",
    "\n",
    "filter_output.shape, filter_output_sigmoid.shape\n"
   ]
  },
  {
   "cell_type": "code",
   "execution_count": 29,
   "metadata": {},
   "outputs": [],
   "source": [
    "#Flattening the matrix\n",
    "filter_output_sigmoid = filter_output_sigmoid.reshape((filter_output_sigmoid.shape[0],filter_output_sigmoid.shape[1]*filter_output_sigmoid.shape[2]))\n",
    "\n",
    "filter_output_sigmoid = filter_output_sigmoid.T\n",
    "\n",
    "# Linear trasnformation for fully Connected Layer\n",
    "# Linear transformation for fully connectted layer\n",
    "\n",
    "output_layer_input=np.dot(wo.T,filter_output_sigmoid)\n",
    "output_layer_input = (output_layer_input - np.average(output_layer_input))/np.std(output_layer_input)\n",
    "\n",
    "\n",
    "# activation function\n",
    "output = sigmoid(output_layer_input)\n"
   ]
  },
  {
   "cell_type": "code",
   "execution_count": 30,
   "metadata": {},
   "outputs": [],
   "source": [
    "#E = (y' - O)2/2\n",
    "#∂E/∂O = -(y'-O)\n",
    "#∂O/∂Z2 = (O)(1-O)\n",
    "#∂Z2/∂W = A1\n",
    "\n",
    "error= np.square(y-output)/2\n",
    "\n",
    "error_wrt_output=-(y-output)\n",
    "output_wrt_output_layer_input=output*(1-output)\n",
    "\n",
    "output_wrt_w = filter_output_sigmoid\n",
    "\n"
   ]
  },
  {
   "cell_type": "code",
   "execution_count": 31,
   "metadata": {},
   "outputs": [],
   "source": [
    "\n",
    "#delta change in w for fully connected layer\n",
    "# W_new = W_old - lr*∂E/∂W\n",
    "# ∂E/∂W = ∂E/∂O *∂O/∂Z2 * ∂Z2/∂W\n",
    "delta_error_fcp = np.dot(output_wrt_w,(error_wrt_output * output_wrt_output_layer_input).T)\n",
    "lr= 0.002\n",
    "wo = wo - lr*delta_error_fcp\n"
   ]
  },
  {
   "cell_type": "code",
   "execution_count": 32,
   "metadata": {},
   "outputs": [],
   "source": [
    "#derivatives for backpropagation for the convolutional layer and update the filters\n",
    "\n",
    "\n",
    "#∂E/∂f = ∂E/∂O.∂O/∂Z2.∂Z2/∂A1 .∂A1/∂Z1 * ∂Z1/∂f\n",
    "#∂E/∂O = -(y'-O)\n",
    "#∂O/∂Z2 = (O)(1-O)\n",
    "#∂Z2/∂A1 = WT\n",
    "#∂A1/∂Z1= A1(1-A1)\n",
    "#∂Z1/∂f = X\n",
    "\n",
    "output_layer_input_wrt_filter_output_sigmoid = wo.T\n",
    "\n",
    "#Error w.r.t sigmoid transformation\n",
    "filter_output_sigmoid_wrt_filter_output = filter_output_sigmoid * (1-filter_output_sigmoid)\n",
    "\n",
    "# cvalculating derivatives for backprop convolution\n",
    "error_wrt_filter_output = np.dot(output_layer_input_wrt_filter_output_sigmoid.T,error_wrt_output*output_wrt_output_layer_input) * filter_output_sigmoid_wrt_filter_output\n",
    "error_wrt_filter_output = np.average(error_wrt_filter_output, axis=1)\n",
    "error_wrt_filter_output = np.resize(error_wrt_filter_output,(X.shape[0]-f.shape[0]+1,X.shape[1]-f.shape[1]+1, f.shape[2]))\n",
    "\n",
    "\n",
    "\n",
    "\n"
   ]
  },
  {
   "cell_type": "code",
   "execution_count": 33,
   "metadata": {},
   "outputs": [],
   "source": [
    "filter_update = []\n",
    "for i in range(f.shape[2]):\n",
    "    for j in range(f.shape[0]):\n",
    "        for k in range(f.shape[1]):            \n",
    "            temp = 0\n",
    "            spos_row = j\n",
    "            spos_col = k\n",
    "            epos_row = spos_row + s_row\n",
    "            epos_col = spos_col + s_col\n",
    "            for l in range(X.shape[2]):\n",
    "                temp = temp + (X[spos_row:epos_row,spos_col:epos_col,l]*error_wrt_filter_output[:,:,i]).sum()\n",
    "            filter_update.append(temp/X.shape[2])  \n",
    "\n",
    "filter_update_array = np.array(filter_update)\n",
    "filter_update_array = np.resize(filter_update_array,(f.shape[2],f.shape[0],f.shape[1]))"
   ]
  },
  {
   "cell_type": "code",
   "execution_count": 35,
   "metadata": {},
   "outputs": [],
   "source": [
    "for i in range(f.shape[2]):\n",
    "    f[:,:,i] = f[:,:,i] - lr*filter_update_array[i]"
   ]
  },
  {
   "cell_type": "code",
   "execution_count": null,
   "metadata": {},
   "outputs": [],
   "source": []
  }
 ],
 "metadata": {
  "kernelspec": {
   "display_name": "Python 3",
   "language": "python",
   "name": "python3"
  },
  "language_info": {
   "codemirror_mode": {
    "name": "ipython",
    "version": 3
   },
   "file_extension": ".py",
   "mimetype": "text/x-python",
   "name": "python",
   "nbconvert_exporter": "python",
   "pygments_lexer": "ipython3",
   "version": "3.7.9"
  }
 },
 "nbformat": 4,
 "nbformat_minor": 4
}
